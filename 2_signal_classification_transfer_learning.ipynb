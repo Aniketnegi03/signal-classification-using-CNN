{
  "nbformat": 4,
  "nbformat_minor": 0,
  "metadata": {
    "colab": {
      "name": "2 signal-classification-transfer-learning.ipynb",
      "provenance": [],
      "collapsed_sections": [],
      "authorship_tag": "ABX9TyMt57UTwWCh0BO7+ffYOx14",
      "include_colab_link": true
    },
    "kernelspec": {
      "name": "python3",
      "display_name": "Python 3"
    },
    "language_info": {
      "name": "python"
    },
    "accelerator": "GPU",
    "gpuClass": "standard"
  },
  "cells": [
    {
      "cell_type": "markdown",
      "metadata": {
        "id": "view-in-github",
        "colab_type": "text"
      },
      "source": [
        "<a href=\"https://colab.research.google.com/github/Aniketnegi03/signal-classification-using-CNN/blob/main/2_signal_classification_transfer_learning.ipynb\" target=\"_parent\"><img src=\"https://colab.research.google.com/assets/colab-badge.svg\" alt=\"Open In Colab\"/></a>"
      ]
    },
    {
      "cell_type": "code",
      "execution_count": null,
      "metadata": {
        "colab": {
          "base_uri": "https://localhost:8080/"
        },
        "id": "o5km2gM7gaMz",
        "outputId": "ad5c239d-c8f4-4400-8749-68938aa25e17"
      },
      "outputs": [
        {
          "output_type": "stream",
          "name": "stdout",
          "text": [
            "Drive already mounted at /content/drive; to attempt to forcibly remount, call drive.mount(\"/content/drive\", force_remount=True).\n"
          ]
        }
      ],
      "source": [
        "from google.colab import drive\n",
        "drive.mount('/content/drive')"
      ]
    },
    {
      "cell_type": "code",
      "source": [
        "import os\n",
        "os.chdir('/content/drive/MyDrive/signal_cnn/primary_small')"
      ],
      "metadata": {
        "id": "39ZKulv4gupn"
      },
      "execution_count": null,
      "outputs": []
    },
    {
      "cell_type": "code",
      "source": [
        "import pandas as pd\n",
        "import numpy as np\n",
        "import matplotlib.pyplot as plt\n",
        "\n",
        "\n",
        "from sklearn.metrics import confusion_matrix\n",
        "from sklearn import metrics\n",
        "\n",
        "import numpy as np\n",
        "np.random.seed(42)\n",
        "\n",
        "import warnings;warnings.simplefilter('ignore')\n",
        "import os\n",
        "import cv2\n",
        "from sklearn.model_selection import train_test_split\n",
        "from sklearn.metrics import accuracy_score, confusion_matrix, f1_score\n",
        "\n",
        "import tensorflow as tf\n",
        "from tensorflow.keras.models import Model\n",
        "from tensorflow.keras.layers import Input, Conv2D, Dense, Flatten, MaxPooling2D, BatchNormalization, Dropout\n",
        "from tensorflow.keras.callbacks import EarlyStopping, CSVLogger, ModelCheckpoint, TensorBoard\n",
        "from tensorflow.keras.preprocessing import image_dataset_from_directory\n",
        "%matplotlib inline\n",
        "print('Tensorflow version:', tf.__version__)"
      ],
      "metadata": {
        "colab": {
          "base_uri": "https://localhost:8080/"
        },
        "id": "m6DweY0qhbP7",
        "outputId": "863ad0bc-dd53-4456-c533-3bd95088de51"
      },
      "execution_count": null,
      "outputs": [
        {
          "output_type": "stream",
          "name": "stdout",
          "text": [
            "Tensorflow version: 2.8.2\n"
          ]
        }
      ]
    },
    {
      "cell_type": "code",
      "source": [
        "ls"
      ],
      "metadata": {
        "colab": {
          "base_uri": "https://localhost:8080/"
        },
        "id": "5hi_uIgLwjiZ",
        "outputId": "3536a89d-3bf8-4153-f5f8-88236f9a8b74"
      },
      "execution_count": null,
      "outputs": [
        {
          "output_type": "stream",
          "name": "stdout",
          "text": [
            "\u001b[0m\u001b[01;34mtensorflow_hub\u001b[0m/  \u001b[01;34mtest\u001b[0m/  \u001b[01;34mtrain\u001b[0m/  \u001b[01;34mvalid\u001b[0m/\n"
          ]
        }
      ]
    },
    {
      "cell_type": "code",
      "source": [
        "train_path=\"/content/drive/MyDrive/signal_cnn/primary_small/train\"\n",
        "test_path=\"/content/drive/MyDrive/signal_cnn/primary_small/test\"\n",
        "val_path=\"/content/drive/MyDrive/signal_cnn/primary_small/valid\"\n",
        "\n",
        "classes_list = sorted(os.listdir(train_path))\n",
        "classes_list"
      ],
      "metadata": {
        "colab": {
          "base_uri": "https://localhost:8080/"
        },
        "id": "fwspDmCdhcKP",
        "outputId": "c1b003ed-25d6-4dc8-f81f-1ee28237e189"
      },
      "execution_count": null,
      "outputs": [
        {
          "output_type": "execute_result",
          "data": {
            "text/plain": [
              "['brightpixel',\n",
              " 'narrowband',\n",
              " 'narrowbanddrd',\n",
              " 'noise',\n",
              " 'squarepulsednarrowband',\n",
              " 'squiggle',\n",
              " 'squigglesquarepulsednarrowband']"
            ]
          },
          "metadata": {},
          "execution_count": 103
        }
      ]
    },
    {
      "cell_type": "code",
      "source": [
        "# Setup data inputs\n",
        "from tensorflow.keras.preprocessing.image import ImageDataGenerator\n",
        "IMAGE_SHAPE = (224, 224)\n",
        "IMAGE_SHAPE = (240, 240)\n",
        "BATCH_SIZE = 32\n",
        "\n",
        "train_path=\"/content/drive/MyDrive/signal_cnn/primary_small/train\"\n",
        "test_path=\"/content/drive/MyDrive/signal_cnn/primary_small/test\"\n",
        "val_path=\"/content/drive/MyDrive/signal_cnn/primary_small/valid\"\n",
        "\n",
        "train_datagen = ImageDataGenerator(rescale=1/255.)\n",
        "test_datagen = ImageDataGenerator(rescale=1/255.)\n",
        "\n",
        "print(\"Training images:\")\n",
        "train_ds = train_datagen.flow_from_directory(train_path,\n",
        "                                               target_size=IMAGE_SHAPE,\n",
        "                                               batch_size=BATCH_SIZE,\n",
        "                                               class_mode=\"categorical\")\n",
        "\n",
        "print(\"Testing images:\")\n",
        "test_ds = train_datagen.flow_from_directory(test_path,\n",
        "                                              target_size=IMAGE_SHAPE,\n",
        "                                              batch_size=BATCH_SIZE,\n",
        "                                              class_mode=\"categorical\")"
      ],
      "metadata": {
        "colab": {
          "base_uri": "https://localhost:8080/"
        },
        "id": "71jJfhvInKhb",
        "outputId": "d6e2fa17-b0a4-4145-eb8b-d03d88705302"
      },
      "execution_count": null,
      "outputs": [
        {
          "output_type": "stream",
          "name": "stdout",
          "text": [
            "Training images:\n",
            "Found 5600 images belonging to 7 classes.\n",
            "Testing images:\n",
            "Found 700 images belonging to 7 classes.\n"
          ]
        }
      ]
    },
    {
      "cell_type": "code",
      "source": [
        "import datetime\n",
        "def create_tensorboard_callback(dir_name, experiment_name):\n",
        "  log_dir = dir_name + \"/\" + experiment_name + \"/\" + datetime.datetime.now().strftime(\"%Y%m%d-%H%M%S\")\n",
        "  tensorboard_callback = tf.keras.callbacks.TensorBoard(\n",
        "      log_dir=log_dir\n",
        "  )\n",
        "  print(f\"Saving TensorBoard log files to: {log_dir}\")\n",
        "  return tensorboard_callback"
      ],
      "metadata": {
        "id": "P-BsUAVaAp1V"
      },
      "execution_count": null,
      "outputs": []
    },
    {
      "cell_type": "code",
      "source": [
        "\n",
        "efficientnet_url = \"https://tfhub.dev/google/imagenet/efficientnet_v2_imagenet21k_ft1k_b1/classification/2\"\n"
      ],
      "metadata": {
        "id": "SS7wXnaaBLNX"
      },
      "execution_count": null,
      "outputs": []
    },
    {
      "cell_type": "markdown",
      "source": [
        "## EFFICIENTNET_V2 B1 MODEL"
      ],
      "metadata": {
        "id": "jJupfh1sP8rj"
      }
    },
    {
      "cell_type": "code",
      "source": [
        "\n",
        "def create_model(model_url, num_classes=10):\n",
        "\n",
        "  feature_extractor_layer = hub.KerasLayer(model_url,\n",
        "                                           trainable=True, # Un-freeze the underlying patterns\n",
        "                                           name='feature_extraction_layer',\n",
        "                                           input_shape=IMAGE_SHAPE+(3,)) \n",
        "  \n",
        " \n",
        "  model = tf.keras.Sequential([\n",
        "    feature_extractor_layer, \n",
        "    layers.Dense(num_classes, activation='softmax', name='output_layer') # create our own output layer      \n",
        "  ])\n",
        "\n",
        "  return model"
      ],
      "metadata": {
        "id": "NGgykCWMS_2Q"
      },
      "execution_count": null,
      "outputs": []
    },
    {
      "cell_type": "code",
      "source": [
        "\n",
        "efficientnet_model = create_model(model_url=efficientnet_url, # use EfficientNetB1 TensorFlow Hub URL\n",
        "                                  num_classes=train_ds.num_classes)\n",
        "\n",
        "# Compile EfficientNet model\n",
        "efficientnet_model.compile(loss='categorical_crossentropy',\n",
        "                           optimizer=tf.keras.optimizers.Adam(),\n",
        "                           metrics=['accuracy'])\n",
        "\n",
        "# Fit EfficientNet model \n",
        "efficientnet_history = efficientnet_model.fit(train_ds, \n",
        "                                              epochs=5, # train for 5 epochs\n",
        "                                              steps_per_epoch=len(train_ds),\n",
        "                                              validation_data=test_ds,\n",
        "                                              validation_steps=len(test_ds),\n",
        "                                              callbacks=[create_tensorboard_callback(dir_name=\"tensorflow_hub\",                                                                                     \n",
        "                                                                                     experiment_name=\"efficientnetB1\")])"
      ],
      "metadata": {
        "colab": {
          "base_uri": "https://localhost:8080/"
        },
        "id": "PHliPUZVBKxq",
        "outputId": "d5105af8-49ed-432f-8084-45575d00b6be"
      },
      "execution_count": null,
      "outputs": [
        {
          "output_type": "stream",
          "name": "stdout",
          "text": [
            "Saving TensorBoard log files to: tensorflow_hub/efficientnetB0/20220614-111059\n",
            "Epoch 1/5\n",
            "175/175 [==============================] - 1612s 9s/step - loss: 1.1371 - accuracy: 0.6348 - val_loss: 1.2709 - val_accuracy: 0.6043\n",
            "Epoch 2/5\n",
            "175/175 [==============================] - 1544s 9s/step - loss: 0.7923 - accuracy: 0.7711 - val_loss: 1.0020 - val_accuracy: 0.6843\n",
            "Epoch 3/5\n",
            "175/175 [==============================] - 1582s 9s/step - loss: 0.6751 - accuracy: 0.8195 - val_loss: 0.7963 - val_accuracy: 0.7714\n",
            "Epoch 4/5\n",
            "175/175 [==============================] - 1674s 10s/step - loss: 0.5696 - accuracy: 0.8573 - val_loss: 0.9780 - val_accuracy: 0.8000\n",
            "Epoch 5/5\n",
            "175/175 [==============================] - 1684s 10s/step - loss: 0.4983 - accuracy: 0.8777 - val_loss: 0.8003 - val_accuracy: 0.8043\n"
          ]
        }
      ]
    },
    {
      "cell_type": "code",
      "source": [
        "efficientnet_model.summary()"
      ],
      "metadata": {
        "colab": {
          "base_uri": "https://localhost:8080/"
        },
        "id": "KmFCBlMnRPAx",
        "outputId": "2cbeb028-530f-497f-f3b8-0631243d2426"
      },
      "execution_count": null,
      "outputs": [
        {
          "output_type": "stream",
          "name": "stdout",
          "text": [
            "Model: \"sequential_13\"\n",
            "_________________________________________________________________\n",
            " Layer (type)                Output Shape              Param #   \n",
            "=================================================================\n",
            " feature_extraction_layer (K  (None, 1280)             4049564   \n",
            " erasLayer)                                                      \n",
            "                                                                 \n",
            " output_layer (Dense)        (None, 7)                 8967      \n",
            "                                                                 \n",
            "=================================================================\n",
            "Total params: 4,058,531\n",
            "Trainable params: 4,016,515\n",
            "Non-trainable params: 42,016\n",
            "_________________________________________________________________\n"
          ]
        }
      ]
    },
    {
      "cell_type": "code",
      "source": [
        "plot_loss_curves(efficientnet_history)"
      ],
      "metadata": {
        "colab": {
          "base_uri": "https://localhost:8080/",
          "height": 573
        },
        "id": "WcxwzKqkGS0q",
        "outputId": "ff9902ab-de7a-4aa1-a55d-29283a159297"
      },
      "execution_count": null,
      "outputs": [
        {
          "output_type": "display_data",
          "data": {
            "text/plain": [
              "<Figure size 432x288 with 1 Axes>"
            ],
            "image/png": "[encoded data removed]"
          },
          "metadata": {
            "needs_background": "light"
          }
        },
        {
          "output_type": "display_data",
          "data": {
            "text/plain": [
              "<Figure size 432x288 with 1 Axes>"
            ],
            "image/png": "[encoded data removed]"
          },
          "metadata": {
            "needs_background": "light"
          }
        }
      ]
    },
    {
      "cell_type": "code",
      "source": [
        "efficientnet_model.evaluate(test_ds)"
      ],
      "metadata": {
        "colab": {
          "base_uri": "https://localhost:8080/"
        },
        "id": "ipr9oRW3Ru8g",
        "outputId": "4f09a21e-1dc0-4d80-8176-fd408952e311"
      },
      "execution_count": null,
      "outputs": [
        {
          "output_type": "stream",
          "name": "stdout",
          "text": [
            "22/22 [==============================] - 44s 2s/step - loss: 0.8003 - accuracy: 0.8043\n"
          ]
        },
        {
          "output_type": "execute_result",
          "data": {
            "text/plain": [
              "[0.8003010153770447, 0.8042857050895691]"
            ]
          },
          "metadata": {},
          "execution_count": 133
        }
      ]
    }
  ]
}